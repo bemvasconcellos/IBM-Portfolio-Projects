{
 "cells": [
  {
   "cell_type": "markdown",
   "metadata": {},
   "source": [
    "<p style=\"text-align:center\">\n",
    "    <a href=\"https://skills.network/?utm_medium=Exinfluencer&utm_source=Exinfluencer&utm_content=000026UJ&utm_term=10006555&utm_id=NA-SkillsNetwork-Channel-SkillsNetworkCoursesIBMDA0321ENSkillsNetwork928-2022-01-01\" target=\"_blank\">\n",
    "    <img src=\"https://cf-courses-data.s3.us.cloud-object-storage.appdomain.cloud/assets/logos/SN_web_lightmode.png\" width=\"200\" alt=\"Skills Network Logo\"  />\n",
    "    </a>\n",
    "</p>\n"
   ]
  },
  {
   "cell_type": "markdown",
   "metadata": {},
   "source": [
    "# **Survey Dataset Exploration Lab**\n"
   ]
  },
  {
   "cell_type": "markdown",
   "metadata": {},
   "source": [
    "Estimated time needed: **30** minutes\n"
   ]
  },
  {
   "cell_type": "markdown",
   "metadata": {},
   "source": [
    "## Objectives\n"
   ]
  },
  {
   "cell_type": "markdown",
   "metadata": {},
   "source": [
    "After completing this lab you will be able to:\n"
   ]
  },
  {
   "cell_type": "markdown",
   "metadata": {},
   "source": [
    "-   Load the dataset that will used thru the capstone project.\n",
    "-   Explore the dataset.\n",
    "-   Get familier with the data types.\n"
   ]
  },
  {
   "cell_type": "markdown",
   "metadata": {},
   "source": [
    "## Load the dataset\n"
   ]
  },
  {
   "cell_type": "markdown",
   "metadata": {},
   "source": [
    "Import the required libraries.\n"
   ]
  },
  {
   "cell_type": "code",
   "execution_count": 1,
   "metadata": {
    "tags": []
   },
   "outputs": [],
   "source": [
    "import pandas as pd"
   ]
  },
  {
   "cell_type": "markdown",
   "metadata": {},
   "source": [
    "The dataset is available on the IBM Cloud at the below url.\n"
   ]
  },
  {
   "cell_type": "code",
   "execution_count": 2,
   "metadata": {
    "tags": []
   },
   "outputs": [],
   "source": [
    "dataset_url = \"https://cf-courses-data.s3.us.cloud-object-storage.appdomain.cloud/IBM-DA0321EN-SkillsNetwork/LargeData/m1_survey_data.csv\""
   ]
  },
  {
   "cell_type": "markdown",
   "metadata": {},
   "source": [
    "Load the data available at dataset_url into a dataframe.\n"
   ]
  },
  {
   "cell_type": "code",
   "execution_count": 3,
   "metadata": {
    "tags": []
   },
   "outputs": [],
   "source": [
    "df = pd.read_csv(dataset_url)"
   ]
  },
  {
   "cell_type": "markdown",
   "metadata": {},
   "source": [
    "## Explore the data set\n"
   ]
  },
  {
   "cell_type": "markdown",
   "metadata": {},
   "source": [
    "It is a good idea to print the top 5 rows of the dataset to get a feel of how the dataset will look.\n"
   ]
  },
  {
   "cell_type": "markdown",
   "metadata": {},
   "source": [
    "Display the top 5 rows and columns from your dataset.\n"
   ]
  },
  {
   "cell_type": "code",
   "execution_count": 4,
   "metadata": {
    "tags": []
   },
   "outputs": [
    {
     "name": "stdout",
     "output_type": "stream",
     "text": [
      "   Respondent                      MainBranch Hobbyist  \\\n",
      "0           4  I am a developer by profession       No   \n",
      "1           9  I am a developer by profession      Yes   \n",
      "2          13  I am a developer by profession      Yes   \n",
      "3          16  I am a developer by profession      Yes   \n",
      "4          17  I am a developer by profession      Yes   \n",
      "\n",
      "                                         OpenSourcer  \\\n",
      "0                                              Never   \n",
      "1                         Once a month or more often   \n",
      "2  Less than once a month but more than once per ...   \n",
      "3                                              Never   \n",
      "4  Less than once a month but more than once per ...   \n",
      "\n",
      "                                          OpenSource          Employment  \\\n",
      "0  The quality of OSS and closed source software ...  Employed full-time   \n",
      "1  The quality of OSS and closed source software ...  Employed full-time   \n",
      "2  OSS is, on average, of HIGHER quality than pro...  Employed full-time   \n",
      "3  The quality of OSS and closed source software ...  Employed full-time   \n",
      "4  The quality of OSS and closed source software ...  Employed full-time   \n",
      "\n",
      "          Country Student                                            EdLevel  \\\n",
      "0   United States      No           Bachelor’s degree (BA, BS, B.Eng., etc.)   \n",
      "1     New Zealand      No  Some college/university study without earning ...   \n",
      "2   United States      No        Master’s degree (MA, MS, M.Eng., MBA, etc.)   \n",
      "3  United Kingdom      No        Master’s degree (MA, MS, M.Eng., MBA, etc.)   \n",
      "4       Australia      No           Bachelor’s degree (BA, BS, B.Eng., etc.)   \n",
      "\n",
      "                                      UndergradMajor  ...  \\\n",
      "0  Computer science, computer engineering, or sof...  ...   \n",
      "1  Computer science, computer engineering, or sof...  ...   \n",
      "2  Computer science, computer engineering, or sof...  ...   \n",
      "3                                                NaN  ...   \n",
      "4  Computer science, computer engineering, or sof...  ...   \n",
      "\n",
      "                              WelcomeChange  \\\n",
      "0   Just as welcome now as I felt last year   \n",
      "1   Just as welcome now as I felt last year   \n",
      "2  Somewhat more welcome now than last year   \n",
      "3   Just as welcome now as I felt last year   \n",
      "4   Just as welcome now as I felt last year   \n",
      "\n",
      "                                        SONewContent   Age Gender Trans  \\\n",
      "0  Tech articles written by other developers;Indu...  22.0    Man    No   \n",
      "1                                                NaN  23.0    Man    No   \n",
      "2  Tech articles written by other developers;Cour...  28.0    Man    No   \n",
      "3  Tech articles written by other developers;Indu...  26.0    Man    No   \n",
      "4  Tech articles written by other developers;Indu...  29.0    Man    No   \n",
      "\n",
      "                 Sexuality                              Ethnicity Dependents  \\\n",
      "0  Straight / Heterosexual           White or of European descent         No   \n",
      "1                 Bisexual           White or of European descent         No   \n",
      "2  Straight / Heterosexual           White or of European descent        Yes   \n",
      "3  Straight / Heterosexual           White or of European descent         No   \n",
      "4  Straight / Heterosexual  Hispanic or Latino/Latina;Multiracial         No   \n",
      "\n",
      "            SurveyLength                  SurveyEase  \n",
      "0  Appropriate in length                        Easy  \n",
      "1  Appropriate in length  Neither easy nor difficult  \n",
      "2  Appropriate in length                        Easy  \n",
      "3  Appropriate in length  Neither easy nor difficult  \n",
      "4  Appropriate in length                        Easy  \n",
      "\n",
      "[5 rows x 85 columns]\n"
     ]
    }
   ],
   "source": [
    "print(df.head())"
   ]
  },
  {
   "cell_type": "markdown",
   "metadata": {},
   "source": [
    "## Find out the number of rows and columns\n"
   ]
  },
  {
   "cell_type": "markdown",
   "metadata": {},
   "source": [
    "Start by exploring the numbers of rows and columns of data in the dataset.\n"
   ]
  },
  {
   "cell_type": "markdown",
   "metadata": {},
   "source": [
    "Print the number of rows in the dataset.\n"
   ]
  },
  {
   "cell_type": "code",
   "execution_count": 8,
   "metadata": {
    "tags": []
   },
   "outputs": [
    {
     "name": "stdout",
     "output_type": "stream",
     "text": [
      "number of rows is 11552\n"
     ]
    }
   ],
   "source": [
    "print('number of rows is',df.shape[0])"
   ]
  },
  {
   "cell_type": "markdown",
   "metadata": {},
   "source": [
    "Print the number of columns in the dataset.\n"
   ]
  },
  {
   "cell_type": "code",
   "execution_count": 7,
   "metadata": {
    "tags": []
   },
   "outputs": [
    {
     "name": "stdout",
     "output_type": "stream",
     "text": [
      "number of columns is 85\n"
     ]
    }
   ],
   "source": [
    "print('number of columns is',df.shape[1])"
   ]
  },
  {
   "cell_type": "markdown",
   "metadata": {},
   "source": [
    "## Identify the data types of each column\n"
   ]
  },
  {
   "cell_type": "markdown",
   "metadata": {},
   "source": [
    "Explore the dataset and identify the data types of each column.\n"
   ]
  },
  {
   "cell_type": "markdown",
   "metadata": {},
   "source": [
    "Print the datatype of all columns.\n"
   ]
  },
  {
   "cell_type": "code",
   "execution_count": 10,
   "metadata": {
    "scrolled": true,
    "tags": []
   },
   "outputs": [
    {
     "name": "stdout",
     "output_type": "stream",
     "text": [
      "Respondent       int64\n",
      "MainBranch      object\n",
      "Hobbyist        object\n",
      "OpenSourcer     object\n",
      "OpenSource      object\n",
      "                 ...  \n",
      "Sexuality       object\n",
      "Ethnicity       object\n",
      "Dependents      object\n",
      "SurveyLength    object\n",
      "SurveyEase      object\n",
      "Length: 85, dtype: object\n"
     ]
    }
   ],
   "source": [
    "print(df.dtypes)"
   ]
  },
  {
   "cell_type": "code",
   "execution_count": 11,
   "metadata": {
    "tags": []
   },
   "outputs": [
    {
     "name": "stdout",
     "output_type": "stream",
     "text": [
      "Column: Respondent, dtype: int64\n",
      "Column: MainBranch, dtype: object\n",
      "Column: Hobbyist, dtype: object\n",
      "Column: OpenSourcer, dtype: object\n",
      "Column: OpenSource, dtype: object\n",
      "Column: Employment, dtype: object\n",
      "Column: Country, dtype: object\n",
      "Column: Student, dtype: object\n",
      "Column: EdLevel, dtype: object\n",
      "Column: UndergradMajor, dtype: object\n",
      "Column: EduOther, dtype: object\n",
      "Column: OrgSize, dtype: object\n",
      "Column: DevType, dtype: object\n",
      "Column: YearsCode, dtype: object\n",
      "Column: Age1stCode, dtype: object\n",
      "Column: YearsCodePro, dtype: object\n",
      "Column: CareerSat, dtype: object\n",
      "Column: JobSat, dtype: object\n",
      "Column: MgrIdiot, dtype: object\n",
      "Column: MgrMoney, dtype: object\n",
      "Column: MgrWant, dtype: object\n",
      "Column: JobSeek, dtype: object\n",
      "Column: LastHireDate, dtype: object\n",
      "Column: LastInt, dtype: object\n",
      "Column: FizzBuzz, dtype: object\n",
      "Column: JobFactors, dtype: object\n",
      "Column: ResumeUpdate, dtype: object\n",
      "Column: CurrencySymbol, dtype: object\n",
      "Column: CurrencyDesc, dtype: object\n",
      "Column: CompTotal, dtype: float64\n",
      "Column: CompFreq, dtype: object\n",
      "Column: ConvertedComp, dtype: float64\n",
      "Column: WorkWeekHrs, dtype: float64\n",
      "Column: WorkPlan, dtype: object\n",
      "Column: WorkChallenge, dtype: object\n",
      "Column: WorkRemote, dtype: object\n",
      "Column: WorkLoc, dtype: object\n",
      "Column: ImpSyn, dtype: object\n",
      "Column: CodeRev, dtype: object\n",
      "Column: CodeRevHrs, dtype: float64\n",
      "Column: UnitTests, dtype: object\n",
      "Column: PurchaseHow, dtype: object\n",
      "Column: PurchaseWhat, dtype: object\n",
      "Column: LanguageWorkedWith, dtype: object\n",
      "Column: LanguageDesireNextYear, dtype: object\n",
      "Column: DatabaseWorkedWith, dtype: object\n",
      "Column: DatabaseDesireNextYear, dtype: object\n",
      "Column: PlatformWorkedWith, dtype: object\n",
      "Column: PlatformDesireNextYear, dtype: object\n",
      "Column: WebFrameWorkedWith, dtype: object\n",
      "Column: WebFrameDesireNextYear, dtype: object\n",
      "Column: MiscTechWorkedWith, dtype: object\n",
      "Column: MiscTechDesireNextYear, dtype: object\n",
      "Column: DevEnviron, dtype: object\n",
      "Column: OpSys, dtype: object\n",
      "Column: Containers, dtype: object\n",
      "Column: BlockchainOrg, dtype: object\n",
      "Column: BlockchainIs, dtype: object\n",
      "Column: BetterLife, dtype: object\n",
      "Column: ITperson, dtype: object\n",
      "Column: OffOn, dtype: object\n",
      "Column: SocialMedia, dtype: object\n",
      "Column: Extraversion, dtype: object\n",
      "Column: ScreenName, dtype: object\n",
      "Column: SOVisit1st, dtype: object\n",
      "Column: SOVisitFreq, dtype: object\n",
      "Column: SOVisitTo, dtype: object\n",
      "Column: SOFindAnswer, dtype: object\n",
      "Column: SOTimeSaved, dtype: object\n",
      "Column: SOHowMuchTime, dtype: object\n",
      "Column: SOAccount, dtype: object\n",
      "Column: SOPartFreq, dtype: object\n",
      "Column: SOJobs, dtype: object\n",
      "Column: EntTeams, dtype: object\n",
      "Column: SOComm, dtype: object\n",
      "Column: WelcomeChange, dtype: object\n",
      "Column: SONewContent, dtype: object\n",
      "Column: Age, dtype: float64\n",
      "Column: Gender, dtype: object\n",
      "Column: Trans, dtype: object\n",
      "Column: Sexuality, dtype: object\n",
      "Column: Ethnicity, dtype: object\n",
      "Column: Dependents, dtype: object\n",
      "Column: SurveyLength, dtype: object\n",
      "Column: SurveyEase, dtype: object\n"
     ]
    }
   ],
   "source": [
    "for column_name, dtype in df.dtypes.items():\n",
    "    print(f\"Column: {column_name}, dtype: {dtype}\")"
   ]
  },
  {
   "cell_type": "markdown",
   "metadata": {},
   "source": [
    "Print the mean age of the survey participants.\n"
   ]
  },
  {
   "cell_type": "code",
   "execution_count": 12,
   "metadata": {
    "tags": []
   },
   "outputs": [
    {
     "name": "stdout",
     "output_type": "stream",
     "text": [
      "mean age of participants is 30.77239449133718\n"
     ]
    }
   ],
   "source": [
    "print('mean age of participants is', df['Age'].mean())"
   ]
  },
  {
   "cell_type": "markdown",
   "metadata": {},
   "source": [
    "The dataset is the result of a world wide survey. Print how many unique countries are there in the Country column.\n"
   ]
  },
  {
   "cell_type": "code",
   "execution_count": 14,
   "metadata": {
    "tags": []
   },
   "outputs": [
    {
     "name": "stdout",
     "output_type": "stream",
     "text": [
      "there are 135 unique countries\n"
     ]
    }
   ],
   "source": [
    "print('there are', df['Country'].nunique(),'unique countries')"
   ]
  },
  {
   "cell_type": "markdown",
   "metadata": {},
   "source": [
    "## Authors\n"
   ]
  },
  {
   "cell_type": "markdown",
   "metadata": {},
   "source": [
    "Ramesh Sannareddy\n"
   ]
  },
  {
   "cell_type": "markdown",
   "metadata": {},
   "source": [
    "### Other Contributors\n"
   ]
  },
  {
   "cell_type": "markdown",
   "metadata": {},
   "source": [
    "Rav Ahuja\n"
   ]
  },
  {
   "cell_type": "markdown",
   "metadata": {},
   "source": [
    "## Change Log\n"
   ]
  },
  {
   "cell_type": "markdown",
   "metadata": {},
   "source": [
    "| Date (YYYY-MM-DD) | Version | Changed By        | Change Description                 |\n",
    "| ----------------- | ------- | ----------------- | ---------------------------------- |\n",
    "| 2020-10-17        | 0.1     | Ramesh Sannareddy | Created initial version of the lab |\n"
   ]
  },
  {
   "cell_type": "markdown",
   "metadata": {},
   "source": [
    " Copyright © 2020 IBM Corporation. This notebook and its source code are released under the terms of the [MIT License](https://cognitiveclass.ai/mit-license?utm_medium=Exinfluencer&utm_source=Exinfluencer&utm_content=000026UJ&utm_term=10006555&utm_id=NA-SkillsNetwork-Channel-SkillsNetworkCoursesIBMDA0321ENSkillsNetwork928-2022-01-01&cm_mmc=Email_Newsletter-_-Developer_Ed%2BTech-_-WW_WW-_-SkillsNetwork-Courses-IBM-DA0321EN-SkillsNetwork-21426264&cm_mmca1=000026UJ&cm_mmca2=10006555&cm_mmca3=M12345678&cvosrc=email.Newsletter.M12345678&cvo_campaign=000026UJ).\n"
   ]
  }
 ],
 "metadata": {
  "kernelspec": {
   "display_name": "Python",
   "language": "python",
   "name": "conda-env-python-py"
  },
  "language_info": {
   "codemirror_mode": {
    "name": "ipython",
    "version": 3
   },
   "file_extension": ".py",
   "mimetype": "text/x-python",
   "name": "python",
   "nbconvert_exporter": "python",
   "pygments_lexer": "ipython3",
   "version": "3.7.12"
  }
 },
 "nbformat": 4,
 "nbformat_minor": 4
}
