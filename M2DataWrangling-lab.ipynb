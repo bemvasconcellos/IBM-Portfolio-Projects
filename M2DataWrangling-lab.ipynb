{
  "metadata": {
    "kernelspec": {
      "name": "python",
      "display_name": "Python (Pyodide)",
      "language": "python"
    },
    "language_info": {
      "codemirror_mode": {
        "name": "python",
        "version": 3
      },
      "file_extension": ".py",
      "mimetype": "text/x-python",
      "name": "python",
      "nbconvert_exporter": "python",
      "pygments_lexer": "ipython3",
      "version": "3.8"
    },
    "prev_pub_hash": "955deb52b02eec3e16e61df584232f2cc045079d697f475cb65582dbfebe300c"
  },
  "nbformat_minor": 4,
  "nbformat": 4,
  "cells": [
    {
      "cell_type": "markdown",
      "source": "<p style=\"text-align:center\">\n    <a href=\"https://skills.network/?utm_medium=Exinfluencer&utm_source=Exinfluencer&utm_content=000026UJ&utm_term=10006555&utm_id=NA-SkillsNetwork-Channel-SkillsNetworkCoursesIBMDA0321ENSkillsNetwork928-2022-01-01\" target=\"_blank\">\n    <img src=\"https://cf-courses-data.s3.us.cloud-object-storage.appdomain.cloud/assets/logos/SN_web_lightmode.png\" width=\"200\" alt=\"Skills Network Logo\"  />\n    </a>\n</p>\n",
      "metadata": {}
    },
    {
      "cell_type": "markdown",
      "source": "# **Data Wrangling Lab**\n",
      "metadata": {}
    },
    {
      "cell_type": "markdown",
      "source": "Estimated time needed: **45 to 60** minutes\n",
      "metadata": {}
    },
    {
      "cell_type": "markdown",
      "source": "In this assignment you will be performing data wrangling.\n",
      "metadata": {}
    },
    {
      "cell_type": "markdown",
      "source": "## Objectives\n",
      "metadata": {}
    },
    {
      "cell_type": "markdown",
      "source": "In this lab you will perform the following:\n",
      "metadata": {}
    },
    {
      "cell_type": "markdown",
      "source": "-   Identify duplicate values in the dataset.\n\n-   Remove duplicate values from the dataset.\n\n-   Identify missing values in the dataset.\n\n-   Impute the missing values in the dataset.\n\n-   Normalize data in the dataset.\n",
      "metadata": {}
    },
    {
      "cell_type": "markdown",
      "source": "<hr>\n",
      "metadata": {}
    },
    {
      "cell_type": "markdown",
      "source": "## Hands on Lab\n",
      "metadata": {}
    },
    {
      "cell_type": "markdown",
      "source": "Import pandas module.\n",
      "metadata": {}
    },
    {
      "cell_type": "code",
      "source": "import pandas as pd",
      "metadata": {
        "trusted": true
      },
      "outputs": [],
      "execution_count": 1
    },
    {
      "cell_type": "markdown",
      "source": "Load the dataset into a dataframe.\n",
      "metadata": {}
    },
    {
      "cell_type": "markdown",
      "source": "<h2>Read Data</h2>\n<p>\nWe utilize the <code>pandas.read_csv()</code> function for reading CSV files. However, in this version of the lab, which operates on JupyterLite, the dataset needs to be downloaded to the interface using the provided code below.\n</p>\n",
      "metadata": {}
    },
    {
      "cell_type": "markdown",
      "source": "The functions below will download the dataset into your browser:\n",
      "metadata": {}
    },
    {
      "cell_type": "code",
      "source": "from pyodide.http import pyfetch\n\nasync def download(url, filename):\n    response = await pyfetch(url)\n    if response.status == 200:\n        with open(filename, \"wb\") as f:\n            f.write(await response.bytes())",
      "metadata": {
        "trusted": true
      },
      "outputs": [],
      "execution_count": 2
    },
    {
      "cell_type": "code",
      "source": "file_path = \"https://cf-courses-data.s3.us.cloud-object-storage.appdomain.cloud/IBM-DA0321EN-SkillsNetwork/LargeData/m1_survey_data.csv\"",
      "metadata": {
        "trusted": true
      },
      "outputs": [],
      "execution_count": 3
    },
    {
      "cell_type": "markdown",
      "source": "To obtain the dataset, utilize the download() function as defined above:  \n",
      "metadata": {}
    },
    {
      "cell_type": "code",
      "source": "await download(file_path, \"m1_survey_data.csv\")\nfile_name=\"m1_survey_data.csv\"",
      "metadata": {
        "trusted": true
      },
      "outputs": [],
      "execution_count": 4
    },
    {
      "cell_type": "markdown",
      "source": "Utilize the Pandas method read_csv() to load the data into a dataframe.\n",
      "metadata": {}
    },
    {
      "cell_type": "code",
      "source": "df = pd.read_csv(file_name)",
      "metadata": {
        "trusted": true
      },
      "outputs": [],
      "execution_count": 5
    },
    {
      "cell_type": "markdown",
      "source": "> Note: This version of the lab is working on JupyterLite, which requires the dataset to be downloaded to the interface.While working on the downloaded version of this notebook on their local machines(Jupyter Anaconda), the learners can simply **skip the steps above,** and simply use the URL directly in the `pandas.read_csv()` function. You can uncomment and run the statements in the cell below.\n",
      "metadata": {}
    },
    {
      "cell_type": "code",
      "source": "#df = pd.read_csv(\"https://cf-courses-data.s3.us.cloud-object-storage.appdomain.cloud/IBM-DA0321EN-SkillsNetwork/LargeData/m1_survey_data.csv\")",
      "metadata": {
        "trusted": true
      },
      "outputs": [],
      "execution_count": 6
    },
    {
      "cell_type": "markdown",
      "source": "## Finding duplicates\n",
      "metadata": {}
    },
    {
      "cell_type": "markdown",
      "source": "In this section you will identify duplicate values in the dataset.\n",
      "metadata": {}
    },
    {
      "cell_type": "markdown",
      "source": " Find how many duplicate rows exist in the dataframe.\n",
      "metadata": {}
    },
    {
      "cell_type": "code",
      "source": "# your code goes here\nprint(len(df[df.duplicated()]))",
      "metadata": {
        "trusted": true
      },
      "outputs": [
        {
          "name": "stdout",
          "text": "154\n",
          "output_type": "stream"
        }
      ],
      "execution_count": 7
    },
    {
      "cell_type": "markdown",
      "source": "## Removing duplicates\n",
      "metadata": {}
    },
    {
      "cell_type": "markdown",
      "source": "Remove the duplicate rows from the dataframe.\n",
      "metadata": {}
    },
    {
      "cell_type": "code",
      "source": "# your code goes here\ndf2 = df.drop_duplicates()",
      "metadata": {
        "trusted": true
      },
      "outputs": [],
      "execution_count": 8
    },
    {
      "cell_type": "markdown",
      "source": "Verify if duplicates were actually dropped.\n",
      "metadata": {}
    },
    {
      "cell_type": "code",
      "source": "# your code goes here\nprint(len(df) - len(df2))",
      "metadata": {
        "trusted": true
      },
      "outputs": [
        {
          "name": "stdout",
          "text": "154\n",
          "output_type": "stream"
        }
      ],
      "execution_count": 9
    },
    {
      "cell_type": "code",
      "source": "print(len(df),len(df2))",
      "metadata": {
        "trusted": true
      },
      "outputs": [
        {
          "name": "stdout",
          "text": "11552 11398\n",
          "output_type": "stream"
        }
      ],
      "execution_count": 10
    },
    {
      "cell_type": "markdown",
      "source": "## Finding Missing values\n",
      "metadata": {}
    },
    {
      "cell_type": "markdown",
      "source": "Find the missing values for all columns.\n",
      "metadata": {}
    },
    {
      "cell_type": "code",
      "source": "pd.set_option('display.max_rows', None)\npd.set_option('display.max_columns', None)",
      "metadata": {
        "trusted": true
      },
      "outputs": [],
      "execution_count": 11
    },
    {
      "cell_type": "code",
      "source": "# your code goes here\nprint(df2.isnull().sum())",
      "metadata": {
        "trusted": true,
        "scrolled": true
      },
      "outputs": [
        {
          "name": "stdout",
          "text": "Respondent                   0\nMainBranch                   0\nHobbyist                     0\nOpenSourcer                  0\nOpenSource                  81\nEmployment                   0\nCountry                      0\nStudent                     51\nEdLevel                    112\nUndergradMajor             737\nEduOther                   164\nOrgSize                     96\nDevType                     65\nYearsCode                    9\nAge1stCode                  13\nYearsCodePro                16\nCareerSat                    0\nJobSat                       1\nMgrIdiot                   493\nMgrMoney                   497\nMgrWant                    493\nJobSeek                      0\nLastHireDate                 0\nLastInt                    413\nFizzBuzz                    37\nJobFactors                   3\nResumeUpdate                39\nCurrencySymbol               0\nCurrencyDesc                 0\nCompTotal                  809\nCompFreq                   206\nConvertedComp              816\nWorkWeekHrs                122\nWorkPlan                   121\nWorkChallenge              164\nWorkRemote                   8\nWorkLoc                     32\nImpSyn                       5\nCodeRev                      1\nCodeRevHrs                2426\nUnitTests                   29\nPurchaseHow                196\nPurchaseWhat                38\nLanguageWorkedWith          11\nLanguageDesireNextYear     134\nDatabaseWorkedWith         453\nDatabaseDesireNextYear    1042\nPlatformWorkedWith         411\nPlatformDesireNextYear     544\nWebFrameWorkedWith        1393\nWebFrameDesireNextYear    1617\nMiscTechWorkedWith        2182\nMiscTechDesireNextYear    1455\nDevEnviron                  29\nOpSys                       34\nContainers                  82\nBlockchainOrg             2322\nBlockchainIs              2610\nBetterLife                  98\nITperson                    35\nOffOn                       38\nSocialMedia                293\nExtraversion                20\nScreenName                 507\nSOVisit1st                 325\nSOVisitFreq                  5\nSOVisitTo                    1\nSOFindAnswer                 3\nSOTimeSaved                 50\nSOHowMuchTime             1917\nSOAccount                    1\nSOPartFreq                1128\nSOJobs                       6\nEntTeams                     5\nSOComm                       0\nWelcomeChange               85\nSONewContent              1965\nAge                        287\nGender                      73\nTrans                      123\nSexuality                  542\nEthnicity                  675\nDependents                 140\nSurveyLength                19\nSurveyEase                  14\ndtype: int64\n",
          "output_type": "stream"
        }
      ],
      "execution_count": 12
    },
    {
      "cell_type": "markdown",
      "source": "Find out how many rows are missing in the column 'WorkLoc'\n",
      "metadata": {}
    },
    {
      "cell_type": "code",
      "source": "# your code goes here\nprint(df['WorkLoc'].isnull().sum())",
      "metadata": {
        "trusted": true
      },
      "outputs": [
        {
          "name": "stdout",
          "text": "32\n",
          "output_type": "stream"
        }
      ],
      "execution_count": 13
    },
    {
      "cell_type": "markdown",
      "source": "## Imputing missing values\n",
      "metadata": {}
    },
    {
      "cell_type": "markdown",
      "source": "Find the  value counts for the column WorkLoc.\n",
      "metadata": {}
    },
    {
      "cell_type": "code",
      "source": "# your code goes here\nprint(df['WorkLoc'].value_counts())",
      "metadata": {
        "trusted": true
      },
      "outputs": [
        {
          "name": "stdout",
          "text": "Office                                            6905\nHome                                              3638\nOther place, such as a coworking space or cafe     977\nName: WorkLoc, dtype: int64\n",
          "output_type": "stream"
        }
      ],
      "execution_count": 14
    },
    {
      "cell_type": "code",
      "source": "# your code goes here\nprint(df['CompFreq'].value_counts())",
      "metadata": {
        "trusted": true,
        "scrolled": true
      },
      "outputs": [
        {
          "name": "stdout",
          "text": "Yearly     6163\nMonthly    4846\nWeekly      337\nName: CompFreq, dtype: int64\n",
          "output_type": "stream"
        }
      ],
      "execution_count": 26
    },
    {
      "cell_type": "markdown",
      "source": "Identify the value that is most frequent (majority) in the WorkLoc column.\n",
      "metadata": {}
    },
    {
      "cell_type": "code",
      "source": "#make a note of the majority value here, for future reference\nmost_frequent_workloc = df['WorkLoc'].value_counts().idxmax()\nprint(most_frequent_workloc)",
      "metadata": {
        "trusted": true
      },
      "outputs": [
        {
          "name": "stdout",
          "text": "Office\n",
          "output_type": "stream"
        }
      ],
      "execution_count": 15
    },
    {
      "cell_type": "markdown",
      "source": "Impute (replace) all the empty rows in the column WorkLoc with the value that you have identified as majority.\n",
      "metadata": {}
    },
    {
      "cell_type": "code",
      "source": "# your code goes here\ndf['WorkLoc'].fillna(most_frequent_workloc, inplace = True)",
      "metadata": {
        "trusted": true
      },
      "outputs": [],
      "execution_count": 16
    },
    {
      "cell_type": "code",
      "source": "# your code goes here\nprint(df['WorkLoc'].isnull().sum())",
      "metadata": {
        "trusted": true
      },
      "outputs": [
        {
          "name": "stdout",
          "text": "0\n",
          "output_type": "stream"
        }
      ],
      "execution_count": 17
    },
    {
      "cell_type": "markdown",
      "source": "After imputation there should ideally not be any empty rows in the WorkLoc column.\n",
      "metadata": {}
    },
    {
      "cell_type": "markdown",
      "source": "Verify if imputing was successful.\n",
      "metadata": {}
    },
    {
      "cell_type": "code",
      "source": "print(df['WorkLoc'].value_counts())",
      "metadata": {
        "trusted": true
      },
      "outputs": [
        {
          "name": "stdout",
          "text": "Office                                            6937\nHome                                              3638\nOther place, such as a coworking space or cafe     977\nName: WorkLoc, dtype: int64\n",
          "output_type": "stream"
        }
      ],
      "execution_count": 19
    },
    {
      "cell_type": "markdown",
      "source": "## Normalizing data\n",
      "metadata": {}
    },
    {
      "cell_type": "markdown",
      "source": "There are two columns in the dataset that talk about compensation.\n\nOne is \"CompFreq\". This column shows how often a developer is paid (Yearly, Monthly, Weekly).\n\nThe other is \"CompTotal\". This column talks about how much the developer is paid per Year, Month, or Week depending upon his/her \"CompFreq\". \n\nThis makes it difficult to compare the total compensation of the developers.\n\nIn this section you will create a new column called 'NormalizedAnnualCompensation' which contains the 'Annual Compensation' irrespective of the 'CompFreq'.\n\nOnce this column is ready, it makes comparison of salaries easy.\n",
      "metadata": {}
    },
    {
      "cell_type": "markdown",
      "source": "<hr>\n",
      "metadata": {}
    },
    {
      "cell_type": "markdown",
      "source": "List out the various categories in the column 'CompFreq'\n",
      "metadata": {}
    },
    {
      "cell_type": "code",
      "source": "# your code goes here\nprint(df['CompFreq'].unique())",
      "metadata": {
        "trusted": true
      },
      "outputs": [
        {
          "name": "stdout",
          "text": "['Yearly' 'Monthly' 'Weekly' nan]\n",
          "output_type": "stream"
        }
      ],
      "execution_count": 21
    },
    {
      "cell_type": "markdown",
      "source": "Create a new column named 'NormalizedAnnualCompensation'. Use the hint given below if needed.\n",
      "metadata": {}
    },
    {
      "cell_type": "markdown",
      "source": "Double click to see the **Hint**.\n\n<!--\n\nUse the below logic to arrive at the values for the column NormalizedAnnualCompensation.\n\nIf the CompFreq is Yearly then use the exising value in CompTotal\nIf the CompFreq is Monthly then multiply the value in CompTotal with 12 (months in an year)\nIf the CompFreq is Weekly then multiply the value in CompTotal with 52 (weeks in an year)\n\n-->\n",
      "metadata": {}
    },
    {
      "cell_type": "code",
      "source": "def normalize_compensation(row):\n    if row['CompFreq'] == 'Yearly':\n        return row['CompTotal']\n    elif row['CompFreq'] == 'Monthly':\n        return row['CompTotal'] * 12\n    elif row['CompFreq'] == 'Weekly':\n        return row['CompTotal'] * 52\n    else:\n        return None  # Handle cases where CompFreq is not specified\n\n# Apply the function to create the new column\ndf['NormalizedAnnualCompensation'] = df.apply(normalize_compensation, axis=1)\n\n# Print the first few rows of the DataFrame to verify the new column\nprint(df.head())",
      "metadata": {
        "trusted": true
      },
      "outputs": [
        {
          "name": "stdout",
          "text": "   Respondent                      MainBranch Hobbyist  \\\n0           4  I am a developer by profession       No   \n1           9  I am a developer by profession      Yes   \n2          13  I am a developer by profession      Yes   \n3          16  I am a developer by profession      Yes   \n4          17  I am a developer by profession      Yes   \n\n                                         OpenSourcer  \\\n0                                              Never   \n1                         Once a month or more often   \n2  Less than once a month but more than once per ...   \n3                                              Never   \n4  Less than once a month but more than once per ...   \n\n                                          OpenSource          Employment  \\\n0  The quality of OSS and closed source software ...  Employed full-time   \n1  The quality of OSS and closed source software ...  Employed full-time   \n2  OSS is, on average, of HIGHER quality than pro...  Employed full-time   \n3  The quality of OSS and closed source software ...  Employed full-time   \n4  The quality of OSS and closed source software ...  Employed full-time   \n\n          Country Student                                            EdLevel  \\\n0   United States      No           Bachelor’s degree (BA, BS, B.Eng., etc.)   \n1     New Zealand      No  Some college/university study without earning ...   \n2   United States      No        Master’s degree (MA, MS, M.Eng., MBA, etc.)   \n3  United Kingdom      No        Master’s degree (MA, MS, M.Eng., MBA, etc.)   \n4       Australia      No           Bachelor’s degree (BA, BS, B.Eng., etc.)   \n\n                                      UndergradMajor  \\\n0  Computer science, computer engineering, or sof...   \n1  Computer science, computer engineering, or sof...   \n2  Computer science, computer engineering, or sof...   \n3                                                NaN   \n4  Computer science, computer engineering, or sof...   \n\n                                            EduOther               OrgSize  \\\n0  Taken an online course in programming or softw...  100 to 499 employees   \n1  Taken an online course in programming or softw...    10 to 19 employees   \n2  Taken an online course in programming or softw...    10 to 19 employees   \n3  Taken an online course in programming or softw...  100 to 499 employees   \n4  Taken an online course in programming or softw...    20 to 99 employees   \n\n                                             DevType YearsCode Age1stCode  \\\n0                              Developer, full-stack         3         16   \n1  Database administrator;Developer, back-end;Dev...        12         11   \n2  Data or business analyst;Database administrato...        17         11   \n3                              Developer, full-stack        10         17   \n4  Developer, back-end;Developer, front-end;Devel...         5         18   \n\n       YearsCodePro           CareerSat                              JobSat  \\\n0  Less than 1 year      Very satisfied                  Slightly satisfied   \n1                 4  Slightly satisfied                  Slightly satisfied   \n2                 8      Very satisfied                      Very satisfied   \n3                 3      Very satisfied                  Slightly satisfied   \n4                 2  Slightly satisfied  Neither satisfied nor dissatisfied   \n\n             MgrIdiot MgrMoney   MgrWant  \\\n0      Very confident       No  Not sure   \n1  Somewhat confident       No  Not sure   \n2                 NaN      NaN       NaN   \n3  Somewhat confident       No        No   \n4  Somewhat confident       No        No   \n\n                                             JobSeek          LastHireDate  \\\n0       I am not interested in new job opportunities  Less than a year ago   \n1  I’m not actively looking, but I am open to new...  Less than a year ago   \n2       I am not interested in new job opportunities         3-4 years ago   \n3  I’m not actively looking, but I am open to new...         3-4 years ago   \n4                    I am actively looking for a job  Less than a year ago   \n\n                                             LastInt FizzBuzz  \\\n0  Write code by hand (e.g., on a whiteboard);Int...       No   \n1  Write any code;Interview with people in peer r...      Yes   \n2  Complete a take-home project;Interview with pe...      Yes   \n3  Interview with people in senior / management r...      Yes   \n4  Complete a take-home project;Interview with pe...       No   \n\n                                          JobFactors  \\\n0  Languages, frameworks, and other technologies ...   \n1  Financial performance or funding status of the...   \n2  Languages, frameworks, and other technologies ...   \n3  Languages, frameworks, and other technologies ...   \n4  Languages, frameworks, and other technologies ...   \n\n                                        ResumeUpdate CurrencySymbol  \\\n0                   I was preparing for a job search            USD   \n1                   I was preparing for a job search            NZD   \n2                   I was preparing for a job search            USD   \n3  I heard about a job opportunity (from a recrui...            GBP   \n4                   I was preparing for a job search            AUD   \n\n           CurrencyDesc  CompTotal CompFreq  ConvertedComp  WorkWeekHrs  \\\n0  United States dollar    61000.0   Yearly        61000.0         80.0   \n1    New Zealand dollar   138000.0   Yearly        95179.0         32.0   \n2  United States dollar    90000.0   Yearly        90000.0         40.0   \n3        Pound sterling    29000.0  Monthly       455352.0         40.0   \n4     Australian dollar    90000.0   Yearly        65277.0         45.0   \n\n                                            WorkPlan  \\\n0  There's no schedule or spec; I work on what se...   \n1  There is a schedule and/or spec (made by me or...   \n2  There is a schedule and/or spec (made by me or...   \n3  There is a schedule and/or spec (made by me or...   \n4  There's no schedule or spec; I work on what se...   \n\n                                       WorkChallenge  \\\n0                                                NaN   \n1  Being tasked with non-development work;Inadequ...   \n2  Meetings;Non-work commitments (parenting, scho...   \n3  Being tasked with non-development work;Distrac...   \n4  Distracting work environment;Meetings;Time spe...   \n\n                                          WorkRemote  \\\n0                   Less than once per month / Never   \n1                   Less than once per month / Never   \n2  All or almost all the time (I'm full-time remote)   \n3                              A few days each month   \n4                              A few days each month   \n\n                                          WorkLoc                  ImpSyn  \\\n0                                            Home  A little below average   \n1                                          Office  A little above average   \n2                                            Home  A little above average   \n3                                            Home                 Average   \n4  Other place, such as a coworking space or cafe  A little above average   \n\n                                   CodeRev  CodeRevHrs  \\\n0                                       No         NaN   \n1  Yes, because I see value in code review        12.0   \n2  Yes, because I see value in code review         5.0   \n3                                       No         NaN   \n4  Yes, because I see value in code review         5.0   \n\n                                           UnitTests  \\\n0                          No, but I think we should   \n1  Yes, it's not part of our process but the deve...   \n2                          No, but I think we should   \n3                          No, but I think we should   \n4                      Yes, it's part of our process   \n\n                                         PurchaseHow  \\\n0  Developers typically have the most influence o...   \n1                                           Not sure   \n2  Developers and management have nearly equal in...   \n3  Developers and management have nearly equal in...   \n4  Developers typically have the most influence o...   \n\n                       PurchaseWhat  \\\n0     I have little or no influence   \n1             I have some influence   \n2  I have a great deal of influence   \n3             I have some influence   \n4     I have little or no influence   \n\n                                  LanguageWorkedWith  \\\n0                                C;C++;C#;Python;SQL   \n1  Bash/Shell/PowerShell;C#;HTML/CSS;JavaScript;P...   \n2  Bash/Shell/PowerShell;HTML/CSS;JavaScript;PHP;...   \n3  Bash/Shell/PowerShell;C#;HTML/CSS;JavaScript;T...   \n4  Bash/Shell/PowerShell;HTML/CSS;JavaScript;Type...   \n\n                              LanguageDesireNextYear  \\\n0                                C;C#;JavaScript;SQL   \n1  Bash/Shell/PowerShell;C;HTML/CSS;JavaScript;Ru...   \n2  Bash/Shell/PowerShell;HTML/CSS;JavaScript;Rust...   \n3  C#;HTML/CSS;JavaScript;TypeScript;WebAssembly;...   \n4  Bash/Shell/PowerShell;HTML/CSS;Java;JavaScript...   \n\n                   DatabaseWorkedWith  \\\n0                        MySQL;SQLite   \n1          DynamoDB;PostgreSQL;SQLite   \n2   Couchbase;DynamoDB;Firebase;MySQL   \n3  MongoDB;Microsoft SQL Server;MySQL   \n4                  MongoDB;PostgreSQL   \n\n                              DatabaseDesireNextYear  \\\n0                                       MySQL;SQLite   \n1                            PostgreSQL;Redis;SQLite   \n2                               Firebase;MySQL;Redis   \n3  Elasticsearch;MongoDB;Microsoft SQL Server;SQLite   \n4          Elasticsearch;Firebase;MongoDB;PostgreSQL   \n\n                                  PlatformWorkedWith  \\\n0                                      Linux;Windows   \n1                AWS;Docker;Heroku;Linux;MacOS;Slack   \n2  Android;AWS;Docker;IBM Cloud or Watson;iOS;Lin...   \n3                                                NaN   \n4       Arduino;Docker;Heroku;Raspberry Pi;WordPress   \n\n                              PlatformDesireNextYear  \\\n0                                      Linux;Windows   \n1      AWS;Docker;Heroku;Linux;MacOS;Slack;Other(s):   \n2  Android;AWS;Docker;IBM Cloud or Watson;Linux;S...   \n3          AWS;Google Cloud Platform;Microsoft Azure   \n4                                             Docker   \n\n                                 WebFrameWorkedWith  \\\n0                                               NaN   \n1                   Express;Ruby on Rails;Other(s):   \n2  Angular/Angular.js;ASP.NET;Express;jQuery;Vue.js   \n3                 Angular/Angular.js;ASP.NET;jQuery   \n4                 Angular/Angular.js;Express;Spring   \n\n                              WebFrameDesireNextYear      MiscTechWorkedWith  \\\n0                                                NaN                    .NET   \n1                    Express;Ruby on Rails;Other(s):        Node.js;Unity 3D   \n2                                     Express;Vue.js         Node.js;Xamarin   \n3                Angular/Angular.js;ASP.NET;React.js  .NET;.NET Core;Node.js   \n4  Angular/Angular.js;Express;React.js;Spring;Vue.js                 Node.js   \n\n           MiscTechDesireNextYear  \\\n0                            .NET   \n1                         Node.js   \n2              Node.js;TensorFlow   \n3  .NET Core;Node.js;React Native   \n4            Node.js;React Native   \n\n                                     DevEnviron        OpSys  \\\n0  Eclipse;Vim;Visual Studio;Visual Studio Code      Windows   \n1                                           Vim        MacOS   \n2    Vim;Visual Studio;Visual Studio Code;Xcode      Windows   \n3              Visual Studio;Visual Studio Code      Windows   \n4                   IntelliJ;Visual Studio Code  Linux-based   \n\n                                          Containers BlockchainOrg  \\\n0                            I do not use containers    Not at all   \n1                     Development;Testing;Production    Not at all   \n2                     Development;Testing;Production    Not at all   \n3                            I do not use containers    Not at all   \n4  Development;Testing;Production;Outside of work...    Not at all   \n\n                                        BlockchainIs BetterLife  \\\n0  Useful for decentralized currency (i.e., Bitcoin)        Yes   \n1                  An irresponsible use of resources         No   \n2  Useful for decentralized currency (i.e., Bitcoin)        Yes   \n3                                      A passing fad         No   \n4                                      A passing fad        Yes   \n\n                                   ITperson  OffOn SocialMedia  \\\n0                                      SIGH    Yes      Reddit   \n1                                      SIGH    Yes     Twitter   \n2                                       Yes    Yes     Twitter   \n3                                      SIGH     No     YouTube   \n4  Fortunately, someone else has that title  What?     YouTube   \n\n               Extraversion ScreenName SOVisit1st             SOVisitFreq  \\\n0  In real life (in person)   Username       2014   Daily or almost daily   \n1  In real life (in person)   Username       2013   Daily or almost daily   \n2  In real life (in person)   Username       2011  Multiple times per day   \n3                    Online   Username       2010  Multiple times per day   \n4  In real life (in person)        NaN       2014   Daily or almost daily   \n\n                                           SOVisitTo  \\\n0  Find answers to specific questions;Pass the ti...   \n1  Find answers to specific questions;Contribute ...   \n2                 Find answers to specific questions   \n3  Find answers to specific questions;Learn how t...   \n4  Find answers to specific questions;Learn how t...   \n\n                  SOFindAnswer                         SOTimeSaved  \\\n0           1-2 times per week      Stack Overflow was much faster   \n1           3-5 times per week            They were about the same   \n2  More than 10 times per week      Stack Overflow was much faster   \n3      Less than once per week      Stack Overflow was much faster   \n4          6-10 times per week  Stack Overflow was slightly faster   \n\n   SOHowMuchTime SOAccount                           SOPartFreq  \\\n0  31-60 minutes       Yes  Less than once per month or monthly   \n1            NaN       Yes  Less than once per month or monthly   \n2  11-30 minutes       Yes  Less than once per month or monthly   \n3  11-30 minutes       Yes  Less than once per month or monthly   \n4   0-10 minutes       Yes                 A few times per week   \n\n                                              SOJobs  \\\n0                                                Yes   \n1  No, I knew that Stack Overflow had a job board...   \n2                                                Yes   \n3                                                Yes   \n4  No, I didn't know that Stack Overflow had a jo...   \n\n                                            EntTeams          SOComm  \\\n0                No, and I don't know what those are  No, not really   \n1                No, and I don't know what those are   Yes, somewhat   \n2  No, I've heard of them, but I am not part of a...         Neutral   \n3  No, I've heard of them, but I am not part of a...   Yes, somewhat   \n4  No, I've heard of them, but I am not part of a...   Yes, somewhat   \n\n                              WelcomeChange  \\\n0   Just as welcome now as I felt last year   \n1   Just as welcome now as I felt last year   \n2  Somewhat more welcome now than last year   \n3   Just as welcome now as I felt last year   \n4   Just as welcome now as I felt last year   \n\n                                        SONewContent   Age Gender Trans  \\\n0  Tech articles written by other developers;Indu...  22.0    Man    No   \n1                                                NaN  23.0    Man    No   \n2  Tech articles written by other developers;Cour...  28.0    Man    No   \n3  Tech articles written by other developers;Indu...  26.0    Man    No   \n4  Tech articles written by other developers;Indu...  29.0    Man    No   \n\n                 Sexuality                              Ethnicity Dependents  \\\n0  Straight / Heterosexual           White or of European descent         No   \n1                 Bisexual           White or of European descent         No   \n2  Straight / Heterosexual           White or of European descent        Yes   \n3  Straight / Heterosexual           White or of European descent         No   \n4  Straight / Heterosexual  Hispanic or Latino/Latina;Multiracial         No   \n\n            SurveyLength                  SurveyEase  \\\n0  Appropriate in length                        Easy   \n1  Appropriate in length  Neither easy nor difficult   \n2  Appropriate in length                        Easy   \n3  Appropriate in length  Neither easy nor difficult   \n4  Appropriate in length                        Easy   \n\n   NormalizedAnnualCompensation  \n0                       61000.0  \n1                      138000.0  \n2                       90000.0  \n3                      348000.0  \n4                       90000.0  \n",
          "output_type": "stream"
        }
      ],
      "execution_count": 22
    },
    {
      "cell_type": "code",
      "source": "print(df['NormalizedAnnualCompensation'].median())",
      "metadata": {
        "trusted": true
      },
      "outputs": [
        {
          "name": "stdout",
          "text": "100000.0\n",
          "output_type": "stream"
        }
      ],
      "execution_count": 27
    },
    {
      "cell_type": "markdown",
      "source": "## Authors\n",
      "metadata": {}
    },
    {
      "cell_type": "markdown",
      "source": "Ramesh Sannareddy\n",
      "metadata": {}
    },
    {
      "cell_type": "markdown",
      "source": "### Other Contributors\n",
      "metadata": {}
    },
    {
      "cell_type": "markdown",
      "source": "Rav Ahuja\n",
      "metadata": {}
    },
    {
      "cell_type": "markdown",
      "source": "## Change Log\n",
      "metadata": {}
    },
    {
      "cell_type": "markdown",
      "source": "| Date (YYYY-MM-DD) | Version | Changed By        | Change Description                 |\n| ----------------- | ------- | ----------------- | ---------------------------------- |\n| 2020-10-17        | 0.1     | Ramesh Sannareddy | Created initial version of the lab |\n",
      "metadata": {}
    },
    {
      "cell_type": "markdown",
      "source": " Copyright © 2020 IBM Corporation. This notebook and its source code are released under the terms of the [MIT License](https://cognitiveclass.ai/mit-license?utm_medium=Exinfluencer&utm_source=Exinfluencer&utm_content=000026UJ&utm_term=10006555&utm_id=NA-SkillsNetwork-Channel-SkillsNetworkCoursesIBMDA0321ENSkillsNetwork928-2022-01-01&cm_mmc=Email_Newsletter-_-Developer_Ed%2BTech-_-WW_WW-_-SkillsNetwork-Courses-IBM-DA0321EN-SkillsNetwork-21426264&cm_mmca1=000026UJ&cm_mmca2=10006555&cm_mmca3=M12345678&cvosrc=email.Newsletter.M12345678&cvo_campaign=000026UJ).\n",
      "metadata": {}
    }
  ]
}